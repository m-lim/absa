{
 "cells": [
  {
   "cell_type": "markdown",
   "metadata": {},
   "source": [
    "# Aspect based sentiment analysis\n",
    "## BERT model"
   ]
  },
  {
   "cell_type": "code",
   "execution_count": 2,
   "metadata": {
    "ExecuteTime": {
     "end_time": "2021-07-26T15:00:30.058251Z",
     "start_time": "2021-07-26T15:00:19.763155Z"
    },
    "colab": {
     "base_uri": "https://localhost:8080/"
    },
    "id": "Ngel3XVFgZoR",
    "outputId": "5593547f-4f53-4aa4-e443-02c58355fdeb"
   },
   "outputs": [
    {
     "name": "stdout",
     "output_type": "stream",
     "text": [
      "cuda\n"
     ]
    }
   ],
   "source": [
    "from transformers import BertTokenizer, BertModel\n",
    "from transformers.trainer_utils import set_seed\n",
    "import torch\n",
    "from torch import nn\n",
    "import pandas as pd\n",
    "import random\n",
    "import numpy as np\n",
    "from keras.preprocessing.sequence import pad_sequences\n",
    "from tqdm import tqdm\n",
    "from sklearn.model_selection import train_test_split\n",
    "import torch.nn.functional as F\n",
    "\n",
    "set_seed(1234)\n",
    "\n",
    "device = torch.device(\"cuda\" if torch.cuda.is_available() else \"cpu\")\n",
    "print(device)"
   ]
  },
  {
   "cell_type": "code",
   "execution_count": 3,
   "metadata": {
    "ExecuteTime": {
     "end_time": "2021-07-26T15:00:30.073226Z",
     "start_time": "2021-07-26T15:00:30.060251Z"
    },
    "id": "R9oy4XMLhCRk"
   },
   "outputs": [],
   "source": [
    "class CustomBertTokenClassifier(nn.Module):\n",
    "    def __init__(self, bert, num_labels):\n",
    "        super().__init__()\n",
    "        self.bert = bert\n",
    "        self.embedding_dim = bert.config.to_dict()['hidden_size']\n",
    "        self.dropout = nn.Dropout(0.5)\n",
    "        self.num_labels = num_labels\n",
    "\n",
    "        \"\"\"uncomment below for Bert-linear\"\"\"\n",
    "        self.fc = nn.Linear(self.embedding_dim, num_labels)\n",
    "\n",
    "        '''OR uncomment below for Bert-Gru'''\n",
    "        # self.gru = nn.GRU(input_size=self.embedding_dim, hidden_size=256, batch_first=True)\n",
    "        # self.fc = nn.Linear(256, num_labels)\n",
    "\n",
    "\n",
    "    def forward(self, input_ids, attention_mask, labels=None):\n",
    "        # text = [batch size, sent len]\n",
    "        bert_outs = self.bert(input_ids, attention_mask)  # outputs = {last_hidden_state, hidden_states}\n",
    "        embedding = bert_outs.last_hidden_state  # embedding = [batch size, sent len, emb dim=768]\n",
    "        #all_hidden = bert_outs.hidden_states  # all_hidden = tuple of tensors size=13, each tensor = [batch size, sent_len, hidden_dim=768]\n",
    "        #print('embedding:', embedding.shape)\n",
    "        #print('all_hidden:', f\"Tuple length:{len(all_hidden)}\", [t.shape for t in all_hidden])\n",
    "        dropped = self.dropout(embedding)\n",
    "\n",
    "        \"\"\"uncomment below for Bert-linear\"\"\"\n",
    "        logits = self.fc(dropped) # output = [batch size, sent len, output dim]\n",
    "        \n",
    "        '''OR uncomment below for Bert-Gru'''\n",
    "        # output,h_n = self.gru(dropped)\n",
    "        # logits = self.fc(output)\n",
    "\n",
    "        loss = None\n",
    "        if labels is not None:\n",
    "            # print(labels.size())\n",
    "            loss_fct = nn.CrossEntropyLoss()\n",
    "            # Only keep active parts of the loss\n",
    "            if attention_mask is not None:\n",
    "                active_loss = attention_mask.view(-1) == 1\n",
    "                active_logits = logits.view(-1, self.num_labels)\n",
    "                active_labels = torch.where(\n",
    "                    active_loss, labels.view(-1), torch.tensor(loss_fct.ignore_index).type_as(labels)\n",
    "                )\n",
    "                loss = loss_fct(active_logits, active_labels)\n",
    "            else:\n",
    "                loss = loss_fct(logits.view(-1, self.num_labels), labels.view(-1))\n",
    "        \n",
    "        return logits, loss\n",
    "\n",
    "# Sample code for training the pytorch model\n",
    "def train_model(epochs, model, optimizer, train_dataloader):\n",
    "    for ep in range(epochs):\n",
    "        model.train()\n",
    "        total_loss = 0\n",
    "        for step, batch in tqdm(enumerate(train_dataloader), total=len(train_dataloader)):\n",
    "            # Add batch to GPU\n",
    "            batch = tuple(t.to(device) for t in batch)\n",
    "            b_input_ids, b_input_mask, b_labels = batch\n",
    "\n",
    "            optimizer.zero_grad()\n",
    "            logits, loss = model(b_input_ids, attention_mask=b_input_mask, labels=b_labels)\n",
    "            #label_ids = b_labels.to('cpu').numpy()\n",
    "            total_loss += loss.item()\n",
    "            # Backward pass\n",
    "            loss.backward()\n",
    "            optimizer.step()\n",
    "        print(f'Loss = {total_loss / len(train_dataloader)}')\n",
    "        \n",
    "def evaluate(model, val_dataloader):\n",
    "    \"\"\"After the completion of each training epoch, measure the model's performance\n",
    "    on our validation set.\n",
    "    \"\"\"\n",
    "    # Put the model into the evaluation mode. The dropout layers are disabled during\n",
    "    # the test time.\n",
    "    model.eval()\n",
    "    total_loss = 0\n",
    "    for step, batch in tqdm(enumerate(val_dataloader), total=len(val_dataloader)):\n",
    "        # Add batch to GPU\n",
    "        batch = tuple(t.to(device) for t in batch)\n",
    "        b_input_ids, b_input_mask, b_labels = batch\n",
    "        with torch.no_grad():\n",
    "            _, loss = model(b_input_ids, attention_mask=b_input_mask, labels=b_labels)\n",
    "        #label_ids = b_labels.to('cpu').numpy()\n",
    "        total_loss += loss.item()\n",
    "    print(f'Loss = {total_loss / len(val_dataloader)}')\n",
    "    return"
   ]
  },
  {
   "cell_type": "code",
   "execution_count": 5,
   "metadata": {
    "ExecuteTime": {
     "end_time": "2021-07-26T15:00:30.341075Z",
     "start_time": "2021-07-26T15:00:30.075207Z"
    },
    "colab": {
     "base_uri": "https://localhost:8080/",
     "height": 221
    },
    "id": "4YeJmZnfxqGY",
    "outputId": "4452e097-36a3-476c-a2d6-7887c8ffa334"
   },
   "outputs": [
    {
     "name": "stdout",
     "output_type": "stream",
     "text": [
      "92\n"
     ]
    },
    {
     "data": {
      "text/html": [
       "<div>\n",
       "<style scoped>\n",
       "    .dataframe tbody tr th:only-of-type {\n",
       "        vertical-align: middle;\n",
       "    }\n",
       "\n",
       "    .dataframe tbody tr th {\n",
       "        vertical-align: top;\n",
       "    }\n",
       "\n",
       "    .dataframe thead th {\n",
       "        text-align: right;\n",
       "    }\n",
       "</style>\n",
       "<table border=\"1\" class=\"dataframe\">\n",
       "  <thead>\n",
       "    <tr style=\"text-align: right;\">\n",
       "      <th></th>\n",
       "      <th>sid</th>\n",
       "      <th>token_ids</th>\n",
       "      <th>labels</th>\n",
       "    </tr>\n",
       "  </thead>\n",
       "  <tbody>\n",
       "    <tr>\n",
       "      <th>0</th>\n",
       "      <td>1004293:0</td>\n",
       "      <td>[101, 13325, 2013, 3025, 8466, 2023, 2109, 200...</td>\n",
       "      <td>[O, O, O, O, O, O, O, O, O, O, O, B-neg, O, O,...</td>\n",
       "    </tr>\n",
       "    <tr>\n",
       "      <th>1</th>\n",
       "      <td>1004293:1</td>\n",
       "      <td>[101, 2057, 1010, 2045, 2020, 2176, 1997, 2149...</td>\n",
       "      <td>[O, O, O, O, O, O, O, O, O, O, O, O, O, O, O, ...</td>\n",
       "    </tr>\n",
       "    <tr>\n",
       "      <th>2</th>\n",
       "      <td>1004293:2</td>\n",
       "      <td>[101, 2027, 2196, 2716, 2149, 19394, 5649, 271...</td>\n",
       "      <td>[O, O, O, O, O, O, O, O, O, O, O, O, O, O, O, ...</td>\n",
       "    </tr>\n",
       "    <tr>\n",
       "      <th>3</th>\n",
       "      <td>1004293:3</td>\n",
       "      <td>[101, 1996, 2833, 2001, 10223, 6508, 1011, 220...</td>\n",
       "      <td>[O, O, B-neg, O, O, O, O, O, O, O, O, O, O, O,...</td>\n",
       "    </tr>\n",
       "    <tr>\n",
       "      <th>4</th>\n",
       "      <td>1004293:4</td>\n",
       "      <td>[101, 2044, 2035, 2008, 1010, 2027, 10865, 200...</td>\n",
       "      <td>[O, O, O, O, O, O, O, O, O, O, O, O, O, O, O]</td>\n",
       "    </tr>\n",
       "  </tbody>\n",
       "</table>\n",
       "</div>"
      ],
      "text/plain": [
       "         sid  ...                                             labels\n",
       "0  1004293:0  ...  [O, O, O, O, O, O, O, O, O, O, O, B-neg, O, O,...\n",
       "1  1004293:1  ...  [O, O, O, O, O, O, O, O, O, O, O, O, O, O, O, ...\n",
       "2  1004293:2  ...  [O, O, O, O, O, O, O, O, O, O, O, O, O, O, O, ...\n",
       "3  1004293:3  ...  [O, O, B-neg, O, O, O, O, O, O, O, O, O, O, O,...\n",
       "4  1004293:4  ...      [O, O, O, O, O, O, O, O, O, O, O, O, O, O, O]\n",
       "\n",
       "[5 rows x 3 columns]"
      ]
     },
     "execution_count": 5,
     "metadata": {
      "tags": []
     },
     "output_type": "execute_result"
    }
   ],
   "source": [
    "df_train = pd.read_csv('/content/preproc_bert_16_restaurant_train.csv')\n",
    "df_train['token_ids'] = df_train['token_ids'].apply(eval)\n",
    "df_train['labels'] = df_train['labels'].apply(eval)\n",
    "l_train=df_train['labels'].tolist()\n",
    "max_len_train=max(len(i) for i in l_train)\n",
    "print(max_len_train)\n",
    "df_train.head(5)"
   ]
  },
  {
   "cell_type": "code",
   "execution_count": 6,
   "metadata": {
    "colab": {
     "base_uri": "https://localhost:8080/",
     "height": 221
    },
    "id": "6aCA9-3rZmBv",
    "outputId": "2f8419cb-e369-4c7c-a609-4ddf3351d601"
   },
   "outputs": [
    {
     "name": "stdout",
     "output_type": "stream",
     "text": [
      "93\n"
     ]
    },
    {
     "data": {
      "text/html": [
       "<div>\n",
       "<style scoped>\n",
       "    .dataframe tbody tr th:only-of-type {\n",
       "        vertical-align: middle;\n",
       "    }\n",
       "\n",
       "    .dataframe tbody tr th {\n",
       "        vertical-align: top;\n",
       "    }\n",
       "\n",
       "    .dataframe thead th {\n",
       "        text-align: right;\n",
       "    }\n",
       "</style>\n",
       "<table border=\"1\" class=\"dataframe\">\n",
       "  <thead>\n",
       "    <tr style=\"text-align: right;\">\n",
       "      <th></th>\n",
       "      <th>sid</th>\n",
       "      <th>token_ids</th>\n",
       "      <th>labels</th>\n",
       "    </tr>\n",
       "  </thead>\n",
       "  <tbody>\n",
       "    <tr>\n",
       "      <th>0</th>\n",
       "      <td>en_BlueRibbonSushi_478218171:0</td>\n",
       "      <td>[101, 9805, 2213, 999, 102]</td>\n",
       "      <td>[O, O, O, O, O]</td>\n",
       "    </tr>\n",
       "    <tr>\n",
       "      <th>1</th>\n",
       "      <td>en_BlueRibbonSushi_478218171:1</td>\n",
       "      <td>[101, 4240, 2428, 2204, 10514, 6182, 1012, 102]</td>\n",
       "      <td>[O, O, O, O, B-pos, I-pos, O, O]</td>\n",
       "    </tr>\n",
       "    <tr>\n",
       "      <th>2</th>\n",
       "      <td>en_BlueRibbonSushi_478218171:2</td>\n",
       "      <td>[101, 2025, 1996, 5221, 8810, 2021, 11706, 101...</td>\n",
       "      <td>[O, O, O, O, B-neu, O, O, O, O]</td>\n",
       "    </tr>\n",
       "    <tr>\n",
       "      <th>3</th>\n",
       "      <td>en_BlueRibbonSushi_478218171:3</td>\n",
       "      <td>[101, 2665, 5572, 13675, 21382, 7987, 9307, 20...</td>\n",
       "      <td>[O, B-pos, I-pos, I-pos, I-pos, I-pos, I-pos, ...</td>\n",
       "    </tr>\n",
       "    <tr>\n",
       "      <th>4</th>\n",
       "      <td>en_BlueRibbonSushi_478218171:4</td>\n",
       "      <td>[101, 2123, 1005, 1056, 2681, 1996, 4825, 2302...</td>\n",
       "      <td>[O, O, O, O, O, O, O, O, O, O, O]</td>\n",
       "    </tr>\n",
       "  </tbody>\n",
       "</table>\n",
       "</div>"
      ],
      "text/plain": [
       "                              sid  ...                                             labels\n",
       "0  en_BlueRibbonSushi_478218171:0  ...                                    [O, O, O, O, O]\n",
       "1  en_BlueRibbonSushi_478218171:1  ...                   [O, O, O, O, B-pos, I-pos, O, O]\n",
       "2  en_BlueRibbonSushi_478218171:2  ...                    [O, O, O, O, B-neu, O, O, O, O]\n",
       "3  en_BlueRibbonSushi_478218171:3  ...  [O, B-pos, I-pos, I-pos, I-pos, I-pos, I-pos, ...\n",
       "4  en_BlueRibbonSushi_478218171:4  ...                  [O, O, O, O, O, O, O, O, O, O, O]\n",
       "\n",
       "[5 rows x 3 columns]"
      ]
     },
     "execution_count": 6,
     "metadata": {
      "tags": []
     },
     "output_type": "execute_result"
    }
   ],
   "source": [
    "df_test = pd.read_csv('/content/preproc_bert_16_restaurant_test.csv')\n",
    "df_test['token_ids'] = df_test['token_ids'].apply(eval)\n",
    "df_test['labels'] = df_test['labels'].apply(eval)\n",
    "l_test=df_test['labels'].tolist()\n",
    "max_len_test=max(len(i) for i in l_test)\n",
    "print(max_len_test)\n",
    "df_test.head(5)"
   ]
  },
  {
   "cell_type": "code",
   "execution_count": 7,
   "metadata": {
    "id": "VYAhB29wpcSj"
   },
   "outputs": [],
   "source": [
    "# MAX_LEN=max(max_len_test,max_len_train)+2\n",
    "# print(MAX_LEN)"
   ]
  },
  {
   "cell_type": "code",
   "execution_count": 8,
   "metadata": {
    "ExecuteTime": {
     "end_time": "2021-07-26T15:00:30.356035Z",
     "start_time": "2021-07-26T15:00:30.342073Z"
    },
    "id": "BOXBnbHNyDXD"
   },
   "outputs": [],
   "source": [
    "# Simple output mapping:\n",
    "\n",
    "'''Uncomment below for 16 restaurant data '''\n",
    "label_mapping = {'O': 0, 'B-pos': 1, 'B-neg': 2, 'B-neu': 3, 'I-pos': 4, 'I-neg': 5, 'I-neu': 6}\n",
    "\n",
    "'''OR Uncomment below for 14 restaurant/laptop data '''\n",
    "# label_mapping = {'O': 0, 'B-pos': 1, 'B-neg': 2, 'B-neu': 3, 'B-con': 4, 'I-pos': 5, 'I-neg': 6, 'I-neu': 7, 'I-con': 8}\n",
    "\n",
    "\n",
    "def generate_input_masks_labels(df, MAX_LEN):\n",
    "    input_ids  = list(df['token_ids'])\n",
    "    attention_masks = [torch.ones((len(x)), dtype=torch.long) for x in input_ids]\n",
    "    labels = [[label_mapping[x] for x in seq] for seq in df['labels']]\n",
    "    input_ids = pad_sequences(input_ids, maxlen=MAX_LEN, dtype=\"long\", truncating=\"post\", padding=\"post\", value=0)\n",
    "    attention_masks = pad_sequences(attention_masks, maxlen=MAX_LEN, dtype=\"long\", truncating=\"post\", padding=\"post\", value=0)\n",
    "    labels = pad_sequences(labels, maxlen=MAX_LEN, dtype=\"long\", truncating=\"post\", padding=\"post\", value=0)\n",
    "    input_ids = torch.tensor(input_ids).long()\n",
    "    attention_masks = torch.tensor(attention_masks).long()\n",
    "    labels = torch.tensor(labels).long()\n",
    "    return input_ids, attention_masks, labels"
   ]
  },
  {
   "cell_type": "code",
   "execution_count": 9,
   "metadata": {
    "ExecuteTime": {
     "end_time": "2021-07-26T15:00:30.370994Z",
     "start_time": "2021-07-26T15:00:30.357038Z"
    },
    "id": "Q0jr599xsfEV"
   },
   "outputs": [],
   "source": [
    "# df_train, df_test = train_test_split(df,test_size=0.1)"
   ]
  },
  {
   "cell_type": "code",
   "execution_count": 10,
   "metadata": {
    "ExecuteTime": {
     "end_time": "2021-07-26T15:00:30.434840Z",
     "start_time": "2021-07-26T15:00:30.371991Z"
    },
    "colab": {
     "base_uri": "https://localhost:8080/"
    },
    "id": "PGfYRSayJBFO",
    "outputId": "ef50230a-0b03-4e79-b357-c3bdc07acda2"
   },
   "outputs": [
    {
     "name": "stdout",
     "output_type": "stream",
     "text": [
      "torch.Size([2000, 92])\n",
      "torch.Size([2000, 92])\n",
      "torch.Size([2000, 92])\n"
     ]
    }
   ],
   "source": [
    "input_ids, attention_masks, labels = generate_input_masks_labels(df_train, max_len_train)\n",
    "print(input_ids.shape)\n",
    "print(attention_masks.shape)\n",
    "print(labels.shape)"
   ]
  },
  {
   "cell_type": "code",
   "execution_count": 11,
   "metadata": {
    "ExecuteTime": {
     "end_time": "2021-07-26T15:00:30.450797Z",
     "start_time": "2021-07-26T15:00:30.436834Z"
    },
    "id": "3Lgqz-i-JSa9"
   },
   "outputs": [],
   "source": [
    "from torch.utils.data import TensorDataset, DataLoader, RandomSampler, SequentialSampler\n",
    "BATCH_SIZE=10\n",
    "\n",
    "train_data = TensorDataset(input_ids, attention_masks, labels)\n",
    "train_sampler = RandomSampler(train_data)\n",
    "train_dataloader = DataLoader(train_data, sampler=train_sampler, batch_size=BATCH_SIZE)"
   ]
  },
  {
   "cell_type": "code",
   "execution_count": 12,
   "metadata": {
    "ExecuteTime": {
     "end_time": "2021-07-26T15:00:30.480719Z",
     "start_time": "2021-07-26T15:00:30.452793Z"
    },
    "id": "0Qaj2cpVsfEX"
   },
   "outputs": [],
   "source": [
    "input_ids_test, attention_masks_test, labels_test = generate_input_masks_labels(df_test, max_len_test)\n",
    "test_data = TensorDataset(input_ids_test, attention_masks_test, labels_test)\n",
    "test_sampler = SequentialSampler(test_data)\n",
    "test_dataloader = DataLoader(test_data, sampler=test_sampler, batch_size=BATCH_SIZE)"
   ]
  },
  {
   "cell_type": "code",
   "execution_count": 13,
   "metadata": {
    "ExecuteTime": {
     "end_time": "2021-07-26T15:04:11.108050Z",
     "start_time": "2021-07-26T15:00:30.481714Z"
    },
    "colab": {
     "base_uri": "https://localhost:8080/",
     "height": 492,
     "referenced_widgets": [
      "f44aedb46fe74fdcb9cb33427009c8e5",
      "da1e86889672487fb2de7af40d861d61",
      "2e2386fde4064e97b1e2cc2f0218c30a",
      "24343110bc4f428899ba68276f19f2b1",
      "945b362d8861449c8fa00038cc1a1a70",
      "b70bfbdc0d1d4a2fb44248019a445745",
      "81efad94be014ed9b2180802510dec0c",
      "67595d9e484b4e3e92cf0e442c67a510",
      "d4c372458961493bb52108a48a00ed79",
      "5af3a73d64274592ab9f319b39fb40e4",
      "82a0f99371da4cbf83531ff60e2058f1",
      "6e22dcfc28bd4ee0bedfd7750d1af134",
      "77582b5e60a149d0b828dbc7acb87961",
      "64a8c9e7f1814eda81f430c5956a9528",
      "c26968bb2ab8478d996b110c00fd841c",
      "f71e81af43fd473593faacfe40815a41"
     ]
    },
    "id": "YHD-M2XlLoRr",
    "outputId": "0c546a83-ce8c-48a4-d8b4-7128456219dd"
   },
   "outputs": [
    {
     "data": {
      "application/vnd.jupyter.widget-view+json": {
       "model_id": "f44aedb46fe74fdcb9cb33427009c8e5",
       "version_major": 2,
       "version_minor": 0
      },
      "text/plain": [
       "HBox(children=(FloatProgress(value=0.0, description='Downloading', max=570.0, style=ProgressStyle(description_…"
      ]
     },
     "metadata": {
      "tags": []
     },
     "output_type": "display_data"
    },
    {
     "name": "stdout",
     "output_type": "stream",
     "text": [
      "\n"
     ]
    },
    {
     "data": {
      "application/vnd.jupyter.widget-view+json": {
       "model_id": "d4c372458961493bb52108a48a00ed79",
       "version_major": 2,
       "version_minor": 0
      },
      "text/plain": [
       "HBox(children=(FloatProgress(value=0.0, description='Downloading', max=440473133.0, style=ProgressStyle(descri…"
      ]
     },
     "metadata": {
      "tags": []
     },
     "output_type": "display_data"
    },
    {
     "name": "stdout",
     "output_type": "stream",
     "text": [
      "\n"
     ]
    },
    {
     "name": "stderr",
     "output_type": "stream",
     "text": [
      "Some weights of the model checkpoint at bert-base-uncased were not used when initializing BertModel: ['cls.predictions.transform.LayerNorm.weight', 'cls.predictions.bias', 'cls.seq_relationship.bias', 'cls.predictions.transform.LayerNorm.bias', 'cls.predictions.transform.dense.weight', 'cls.predictions.transform.dense.bias', 'cls.seq_relationship.weight', 'cls.predictions.decoder.weight']\n",
      "- This IS expected if you are initializing BertModel from the checkpoint of a model trained on another task or with another architecture (e.g. initializing a BertForSequenceClassification model from a BertForPreTraining model).\n",
      "- This IS NOT expected if you are initializing BertModel from the checkpoint of a model that you expect to be exactly identical (initializing a BertForSequenceClassification model from a BertForSequenceClassification model).\n",
      "  0%|          | 0/200 [00:00<?, ?it/s]"
     ]
    },
    {
     "name": "stdout",
     "output_type": "stream",
     "text": [
      "=== Training phase 1 ====\n"
     ]
    },
    {
     "name": "stderr",
     "output_type": "stream",
     "text": [
      "100%|██████████| 200/200 [00:23<00:00,  8.48it/s]\n",
      "  4%|▍         | 3/68 [00:00<00:02, 28.82it/s]"
     ]
    },
    {
     "name": "stdout",
     "output_type": "stream",
     "text": [
      "Loss = 0.2645166733115911\n",
      "=== Eval phase 1 ====\n"
     ]
    },
    {
     "name": "stderr",
     "output_type": "stream",
     "text": [
      "100%|██████████| 68/68 [00:02<00:00, 28.67it/s]\n",
      "  0%|          | 1/200 [00:00<00:22,  8.77it/s]"
     ]
    },
    {
     "name": "stdout",
     "output_type": "stream",
     "text": [
      "Loss = 0.18678577770205104\n",
      "=== Training phase 2 ====\n"
     ]
    },
    {
     "name": "stderr",
     "output_type": "stream",
     "text": [
      "100%|██████████| 200/200 [00:23<00:00,  8.55it/s]\n",
      "  4%|▍         | 3/68 [00:00<00:02, 28.88it/s]"
     ]
    },
    {
     "name": "stdout",
     "output_type": "stream",
     "text": [
      "Loss = 0.11637852341867984\n",
      "=== Eval phase 2 ====\n"
     ]
    },
    {
     "name": "stderr",
     "output_type": "stream",
     "text": [
      "100%|██████████| 68/68 [00:02<00:00, 28.68it/s]\n",
      "  0%|          | 1/200 [00:00<00:22,  8.82it/s]"
     ]
    },
    {
     "name": "stdout",
     "output_type": "stream",
     "text": [
      "Loss = 0.15269656839561374\n",
      "=== Training phase 3 ====\n"
     ]
    },
    {
     "name": "stderr",
     "output_type": "stream",
     "text": [
      "100%|██████████| 200/200 [00:23<00:00,  8.54it/s]\n",
      "  4%|▍         | 3/68 [00:00<00:02, 28.54it/s]"
     ]
    },
    {
     "name": "stdout",
     "output_type": "stream",
     "text": [
      "Loss = 0.059641815554350615\n",
      "=== Eval phase 3 ====\n"
     ]
    },
    {
     "name": "stderr",
     "output_type": "stream",
     "text": [
      "100%|██████████| 68/68 [00:02<00:00, 28.71it/s]"
     ]
    },
    {
     "name": "stdout",
     "output_type": "stream",
     "text": [
      "Loss = 0.17850478386561222\n"
     ]
    },
    {
     "name": "stderr",
     "output_type": "stream",
     "text": [
      "\n"
     ]
    }
   ],
   "source": [
    "from transformers import AdamW\n",
    "pred_log = []\n",
    "epochs = 3\n",
    "num_labels = len(label_mapping)\n",
    "#num_labels = 3\n",
    "bert = BertModel.from_pretrained(\"bert-base-uncased\")\n",
    "model = CustomBertTokenClassifier(bert, num_labels)\n",
    "model.to(device)\n",
    "param_optimizer = list(model.named_parameters())\n",
    "no_decay = ['bias', 'gamma', 'beta']\n",
    "optimizer_grouped_parameters = [\n",
    "    {'params': [p for n, p in param_optimizer if not any(nd in n for nd in no_decay)],\n",
    "    'weight_decay_rate': 0.05},\n",
    "    {'params': [p for n, p in param_optimizer if any(nd in n for nd in no_decay)],\n",
    "    'weight_decay_rate': 0.0}\n",
    "]\n",
    "optimizer = AdamW(optimizer_grouped_parameters, lr=5e-5)\n",
    "for ep in range(epochs):\n",
    "    print(f\"=== Training phase {ep+1} ====\")\n",
    "    train_model(1, model, optimizer, train_dataloader)\n",
    "    print(f\"=== Eval phase {ep+1} ====\")\n",
    "    evaluate(model,test_dataloader)"
   ]
  },
  {
   "cell_type": "code",
   "execution_count": 14,
   "metadata": {
    "ExecuteTime": {
     "end_time": "2021-07-26T15:04:11.124008Z",
     "start_time": "2021-07-26T15:04:11.109047Z"
    },
    "id": "97VrGvzisfEZ"
   },
   "outputs": [],
   "source": [
    "def evaluate_prob(model, val_dataloader):\n",
    "    \"\"\"After the completion of each training epoch, measure the model's performance\n",
    "    on our validation set.\n",
    "    \"\"\"\n",
    "    # Put the model into the evaluation mode. The dropout layers are disabled during\n",
    "    # the test time.\n",
    "    model.eval()\n",
    "    total_loss = 0\n",
    "    all_pred = []\n",
    "    for step, batch in tqdm(enumerate(val_dataloader), total=len(val_dataloader)):\n",
    "        # Add batch to GPU\n",
    "        batch = tuple(t.to(device) for t in batch)\n",
    "        b_input_ids, b_input_mask, b_labels = batch\n",
    "        with torch.no_grad():\n",
    "            logits, loss = model(b_input_ids, attention_mask=b_input_mask, labels=b_labels)\n",
    "        #all_logits.append(logits)\n",
    "        #label_ids = b_labels.to('cpu').numpy()\n",
    "        logits = logits.cpu().numpy()\n",
    "        all_pred.append(np.argmax(logits,axis=2))\n",
    "        # all_logits.append((np.argmax(logits,axis=2),b_labels.cpu().numpy()))\n",
    "        total_loss += loss.item()\n",
    "    print(f'Loss = {total_loss / len(val_dataloader)}')\n",
    "    return np.concatenate(all_pred, axis=0)"
   ]
  },
  {
   "cell_type": "code",
   "execution_count": 15,
   "metadata": {
    "ExecuteTime": {
     "end_time": "2021-07-26T15:04:14.750306Z",
     "start_time": "2021-07-26T15:04:11.125004Z"
    },
    "colab": {
     "base_uri": "https://localhost:8080/"
    },
    "id": "0g3He_LPsfEZ",
    "outputId": "55e77a83-1a5f-4779-8ead-010bf6f898a0"
   },
   "outputs": [
    {
     "name": "stderr",
     "output_type": "stream",
     "text": [
      "100%|██████████| 68/68 [00:02<00:00, 28.67it/s]"
     ]
    },
    {
     "name": "stdout",
     "output_type": "stream",
     "text": [
      "Loss = 0.17850478386561222\n"
     ]
    },
    {
     "name": "stderr",
     "output_type": "stream",
     "text": [
      "\n"
     ]
    }
   ],
   "source": [
    "pred = evaluate_prob(model,test_dataloader)"
   ]
  },
  {
   "cell_type": "code",
   "execution_count": 16,
   "metadata": {
    "id": "BoPvf4_BVnun"
   },
   "outputs": [],
   "source": [
    "# print(pred[:5])"
   ]
  },
  {
   "cell_type": "code",
   "execution_count": 17,
   "metadata": {
    "colab": {
     "base_uri": "https://localhost:8080/",
     "height": 266
    },
    "id": "YzoQzzY1YuLV",
    "outputId": "c5c2e45f-38f1-48c2-e298-06813ca4f124"
   },
   "outputs": [
    {
     "data": {
      "text/html": [
       "<div>\n",
       "<style scoped>\n",
       "    .dataframe tbody tr th:only-of-type {\n",
       "        vertical-align: middle;\n",
       "    }\n",
       "\n",
       "    .dataframe tbody tr th {\n",
       "        vertical-align: top;\n",
       "    }\n",
       "\n",
       "    .dataframe thead th {\n",
       "        text-align: right;\n",
       "    }\n",
       "</style>\n",
       "<table border=\"1\" class=\"dataframe\">\n",
       "  <thead>\n",
       "    <tr style=\"text-align: right;\">\n",
       "      <th></th>\n",
       "      <th>0</th>\n",
       "      <th>1</th>\n",
       "      <th>2</th>\n",
       "      <th>3</th>\n",
       "      <th>4</th>\n",
       "      <th>5</th>\n",
       "      <th>6</th>\n",
       "    </tr>\n",
       "  </thead>\n",
       "  <tbody>\n",
       "    <tr>\n",
       "      <th>0</th>\n",
       "      <td>10959</td>\n",
       "      <td>75</td>\n",
       "      <td>42</td>\n",
       "      <td>0</td>\n",
       "      <td>81</td>\n",
       "      <td>27</td>\n",
       "      <td>0</td>\n",
       "    </tr>\n",
       "    <tr>\n",
       "      <th>1</th>\n",
       "      <td>52</td>\n",
       "      <td>386</td>\n",
       "      <td>15</td>\n",
       "      <td>0</td>\n",
       "      <td>16</td>\n",
       "      <td>0</td>\n",
       "      <td>0</td>\n",
       "    </tr>\n",
       "    <tr>\n",
       "      <th>2</th>\n",
       "      <td>24</td>\n",
       "      <td>13</td>\n",
       "      <td>76</td>\n",
       "      <td>0</td>\n",
       "      <td>1</td>\n",
       "      <td>1</td>\n",
       "      <td>0</td>\n",
       "    </tr>\n",
       "    <tr>\n",
       "      <th>3</th>\n",
       "      <td>7</td>\n",
       "      <td>13</td>\n",
       "      <td>10</td>\n",
       "      <td>0</td>\n",
       "      <td>0</td>\n",
       "      <td>0</td>\n",
       "      <td>0</td>\n",
       "    </tr>\n",
       "    <tr>\n",
       "      <th>4</th>\n",
       "      <td>111</td>\n",
       "      <td>18</td>\n",
       "      <td>0</td>\n",
       "      <td>0</td>\n",
       "      <td>394</td>\n",
       "      <td>4</td>\n",
       "      <td>0</td>\n",
       "    </tr>\n",
       "    <tr>\n",
       "      <th>5</th>\n",
       "      <td>21</td>\n",
       "      <td>0</td>\n",
       "      <td>0</td>\n",
       "      <td>0</td>\n",
       "      <td>11</td>\n",
       "      <td>13</td>\n",
       "      <td>0</td>\n",
       "    </tr>\n",
       "    <tr>\n",
       "      <th>6</th>\n",
       "      <td>16</td>\n",
       "      <td>0</td>\n",
       "      <td>0</td>\n",
       "      <td>0</td>\n",
       "      <td>9</td>\n",
       "      <td>1</td>\n",
       "      <td>0</td>\n",
       "    </tr>\n",
       "  </tbody>\n",
       "</table>\n",
       "</div>"
      ],
      "text/plain": [
       "       0    1   2  3    4   5  6\n",
       "0  10959   75  42  0   81  27  0\n",
       "1     52  386  15  0   16   0  0\n",
       "2     24   13  76  0    1   1  0\n",
       "3      7   13  10  0    0   0  0\n",
       "4    111   18   0  0  394   4  0\n",
       "5     21    0   0  0   11  13  0\n",
       "6     16    0   0  0    9   1  0"
      ]
     },
     "execution_count": 17,
     "metadata": {
      "tags": []
     },
     "output_type": "execute_result"
    }
   ],
   "source": [
    "from sklearn.metrics import confusion_matrix\n",
    "#all_pred = np.concatenate(pred, axis=0)\n",
    "#print(pred.shape)\n",
    "test_labels_np = labels_test.cpu().numpy().flatten()\n",
    "pred = pred.flatten()\n",
    "\n",
    "att_mask = attention_masks_test.cpu().numpy().flatten() == 1\n",
    "test_labels_final = test_labels_np[att_mask]\n",
    "pred_final = pred[att_mask]\n",
    "\n",
    "#print(test_labels_np.shape)\n",
    "pd.DataFrame(confusion_matrix(test_labels_final, pred_final))"
   ]
  },
  {
   "cell_type": "code",
   "execution_count": 18,
   "metadata": {
    "colab": {
     "base_uri": "https://localhost:8080/"
    },
    "id": "IOnZAV_VcVHu",
    "outputId": "de4192c3-c439-415b-e041-97c3b4935937"
   },
   "outputs": [
    {
     "name": "stdout",
     "output_type": "stream",
     "text": [
      "              precision    recall  f1-score   support\n",
      "\n",
      "       B-pos       0.76      0.82      0.79       469\n",
      "       B-neg       0.53      0.66      0.59       115\n",
      "       B-neu       0.00      0.00      0.00        30\n",
      "       I-pos       0.77      0.75      0.76       527\n",
      "       I-neg       0.28      0.29      0.29        45\n",
      "       I-neu       0.00      0.00      0.00        26\n",
      "\n",
      "   micro avg       0.72      0.72      0.72      1212\n",
      "   macro avg       0.39      0.42      0.40      1212\n",
      "weighted avg       0.69      0.72      0.70      1212\n",
      "\n"
     ]
    },
    {
     "name": "stderr",
     "output_type": "stream",
     "text": [
      "/usr/local/lib/python3.7/dist-packages/sklearn/metrics/_classification.py:1272: UndefinedMetricWarning: Precision and F-score are ill-defined and being set to 0.0 in labels with no predicted samples. Use `zero_division` parameter to control this behavior.\n",
      "  _warn_prf(average, modifier, msg_start, len(result))\n"
     ]
    }
   ],
   "source": [
    "from sklearn.metrics import classification_report\n",
    "\n",
    "'''Uncomment below for 16 restaurant data '''\n",
    "print(classification_report(test_labels_final,pred_final,labels=[1,2,3,4,5,6], target_names=[\"B-pos\",'B-neg','B-neu','I-pos','I-neg','I-neu']))\n",
    "\n",
    "'''OR Uncomment below for 14 restaurant data '''\n",
    "# print(classification_report(test_labels_final,pred_final,labels=[1,2,3,4,5,6,7,8], target_names=[\"B-pos\",'B-neg','B-neu','B-con','I-pos','I-neg','I-neu','I-con']))"
   ]
  },
  {
   "cell_type": "code",
   "execution_count": 19,
   "metadata": {
    "colab": {
     "base_uri": "https://localhost:8080/"
    },
    "id": "hgPQRVPVQ6go",
    "outputId": "9ec25b93-9da0-4e4e-eb4d-595047269254"
   },
   "outputs": [
    {
     "name": "stdout",
     "output_type": "stream",
     "text": [
      "micro_precision: 0.721\n",
      "micro_recall: 0.717\n",
      "micro_f1: 0.719\n"
     ]
    }
   ],
   "source": [
    "# from sklearn.metrics import precision_score, recall_score, f1_score \n",
    "# micro_precision = precision_score(test_labels_final,pred_final, labels=[1,2,3,4,5,6], average='micro')\n",
    "# micro_recall = recall_score(test_labels_final,pred_final, labels=[1,2,3,4,5,6], average='micro')\n",
    "# micro_f1 = f1_score(test_labels_final,pred_final, labels=[1,2,3,4,5,6], average='micro')\n",
    "# print(f'micro_precision: {micro_precision:.3f}')\n",
    "# print(f'micro_recall: {micro_recall:.3f}')\n",
    "# print(f'micro_f1: {micro_f1:.3f}')"
   ]
  },
  {
   "cell_type": "code",
   "execution_count": 20,
   "metadata": {
    "colab": {
     "base_uri": "https://localhost:8080/",
     "height": 142
    },
    "id": "nXOZ6XIdYuLW",
    "outputId": "1901d853-571e-4034-b2c6-9d6a170bebd0"
   },
   "outputs": [
    {
     "data": {
      "text/html": [
       "<div>\n",
       "<style scoped>\n",
       "    .dataframe tbody tr th:only-of-type {\n",
       "        vertical-align: middle;\n",
       "    }\n",
       "\n",
       "    .dataframe tbody tr th {\n",
       "        vertical-align: top;\n",
       "    }\n",
       "\n",
       "    .dataframe thead th {\n",
       "        text-align: right;\n",
       "    }\n",
       "</style>\n",
       "<table border=\"1\" class=\"dataframe\">\n",
       "  <thead>\n",
       "    <tr style=\"text-align: right;\">\n",
       "      <th></th>\n",
       "      <th>0</th>\n",
       "      <th>1</th>\n",
       "      <th>2</th>\n",
       "    </tr>\n",
       "  </thead>\n",
       "  <tbody>\n",
       "    <tr>\n",
       "      <th>0</th>\n",
       "      <td>10959</td>\n",
       "      <td>198</td>\n",
       "      <td>27</td>\n",
       "    </tr>\n",
       "    <tr>\n",
       "      <th>1</th>\n",
       "      <td>194</td>\n",
       "      <td>942</td>\n",
       "      <td>5</td>\n",
       "    </tr>\n",
       "    <tr>\n",
       "      <th>2</th>\n",
       "      <td>37</td>\n",
       "      <td>20</td>\n",
       "      <td>14</td>\n",
       "    </tr>\n",
       "  </tbody>\n",
       "</table>\n",
       "</div>"
      ],
      "text/plain": [
       "       0    1   2\n",
       "0  10959  198  27\n",
       "1    194  942   5\n",
       "2     37   20  14"
      ]
     },
     "execution_count": 20,
     "metadata": {
      "tags": []
     },
     "output_type": "execute_result"
    }
   ],
   "source": [
    "def conv2BIO(x):\n",
    "    if x == 0:\n",
    "        return 0\n",
    "    if x > 4:\n",
    "        return 2\n",
    "    return 1\n",
    "\n",
    "vfunc = np.vectorize(conv2BIO)\n",
    "\n",
    "bio_labels = vfunc(test_labels_final)\n",
    "bio_pred = vfunc(pred_final)\n",
    "\n",
    "pd.DataFrame(confusion_matrix(bio_labels, bio_pred))"
   ]
  },
  {
   "cell_type": "code",
   "execution_count": 21,
   "metadata": {
    "colab": {
     "base_uri": "https://localhost:8080/"
    },
    "id": "eB8636jCcHG4",
    "outputId": "d0d96c00-90c0-4032-8d01-9d746ddc4a25"
   },
   "outputs": [
    {
     "name": "stdout",
     "output_type": "stream",
     "text": [
      "              precision    recall  f1-score   support\n",
      "\n",
      "         Pos       0.81      0.83      0.82      1141\n",
      "         Neg       0.30      0.20      0.24        71\n",
      "\n",
      "   micro avg       0.79      0.79      0.79      1212\n",
      "   macro avg       0.56      0.51      0.53      1212\n",
      "weighted avg       0.78      0.79      0.78      1212\n",
      "\n"
     ]
    }
   ],
   "source": [
    "print(classification_report(bio_labels,bio_pred, labels=[1,2], target_names=[\"Pos\",'Neg']))"
   ]
  },
  {
   "cell_type": "code",
   "execution_count": 22,
   "metadata": {
    "colab": {
     "base_uri": "https://localhost:8080/"
    },
    "id": "B4ku-VUkPchj",
    "outputId": "224fce17-4481-45eb-f2e7-f6ef4c422df1"
   },
   "outputs": [
    {
     "name": "stdout",
     "output_type": "stream",
     "text": [
      "micro_precision:  0.7927031509121062\n",
      "micro_recall:  0.7887788778877888\n",
      "micro_f1:  0.7907361455748553\n"
     ]
    }
   ],
   "source": [
    "# micro_precision = precision_score(bio_labels,bio_pred, labels=[1,2], average='micro')\n",
    "# micro_recall = recall_score(bio_labels,bio_pred, labels=[1,2], average='micro')\n",
    "# micro_f1 = f1_score(bio_labels,bio_pred, labels=[1,2], average='micro')\n",
    "# print('micro_precision: ',micro_precision)\n",
    "# print('micro_recall: ', micro_recall)\n",
    "# print('micro_f1: ',micro_f1)"
   ]
  },
  {
   "cell_type": "code",
   "execution_count": null,
   "metadata": {
    "ExecuteTime": {
     "end_time": "2021-07-26T15:04:14.781268Z",
     "start_time": "2021-07-26T15:04:14.751304Z"
    },
    "id": "7w-U3IAnsfEa"
   },
   "outputs": [],
   "source": [
    "#  torch.cuda.empty_cache()"
   ]
  }
 ],
 "metadata": {
  "accelerator": "GPU",
  "colab": {
   "collapsed_sections": [],
   "machine_shape": "hm",
   "name": "BertABSA_v3_WZbranch_16.ipynb",
   "provenance": []
  },
  "kernelspec": {
   "display_name": "Python 3 (ipykernel)",
   "language": "python",
   "name": "python3"
  },
  "language_info": {
   "codemirror_mode": {
    "name": "ipython",
    "version": 3
   },
   "file_extension": ".py",
   "mimetype": "text/x-python",
   "name": "python",
   "nbconvert_exporter": "python",
   "pygments_lexer": "ipython3",
   "version": "3.8.5"
  },
  "varInspector": {
   "cols": {
    "lenName": 16,
    "lenType": 16,
    "lenVar": 40
   },
   "kernels_config": {
    "python": {
     "delete_cmd_postfix": "",
     "delete_cmd_prefix": "del ",
     "library": "var_list.py",
     "varRefreshCmd": "print(var_dic_list())"
    },
    "r": {
     "delete_cmd_postfix": ") ",
     "delete_cmd_prefix": "rm(",
     "library": "var_list.r",
     "varRefreshCmd": "cat(var_dic_list()) "
    }
   },
   "types_to_exclude": [
    "module",
    "function",
    "builtin_function_or_method",
    "instance",
    "_Feature"
   ],
   "window_display": false
  },
  "widgets": {
   "application/vnd.jupyter.widget-state+json": {
    "24343110bc4f428899ba68276f19f2b1": {
     "model_module": "@jupyter-widgets/controls",
     "model_name": "HTMLModel",
     "state": {
      "_dom_classes": [],
      "_model_module": "@jupyter-widgets/controls",
      "_model_module_version": "1.5.0",
      "_model_name": "HTMLModel",
      "_view_count": null,
      "_view_module": "@jupyter-widgets/controls",
      "_view_module_version": "1.5.0",
      "_view_name": "HTMLView",
      "description": "",
      "description_tooltip": null,
      "layout": "IPY_MODEL_67595d9e484b4e3e92cf0e442c67a510",
      "placeholder": "​",
      "style": "IPY_MODEL_81efad94be014ed9b2180802510dec0c",
      "value": " 570/570 [00:00&lt;00:00, 16.2kB/s]"
     }
    },
    "2e2386fde4064e97b1e2cc2f0218c30a": {
     "model_module": "@jupyter-widgets/controls",
     "model_name": "FloatProgressModel",
     "state": {
      "_dom_classes": [],
      "_model_module": "@jupyter-widgets/controls",
      "_model_module_version": "1.5.0",
      "_model_name": "FloatProgressModel",
      "_view_count": null,
      "_view_module": "@jupyter-widgets/controls",
      "_view_module_version": "1.5.0",
      "_view_name": "ProgressView",
      "bar_style": "success",
      "description": "Downloading: 100%",
      "description_tooltip": null,
      "layout": "IPY_MODEL_b70bfbdc0d1d4a2fb44248019a445745",
      "max": 570,
      "min": 0,
      "orientation": "horizontal",
      "style": "IPY_MODEL_945b362d8861449c8fa00038cc1a1a70",
      "value": 570
     }
    },
    "5af3a73d64274592ab9f319b39fb40e4": {
     "model_module": "@jupyter-widgets/base",
     "model_name": "LayoutModel",
     "state": {
      "_model_module": "@jupyter-widgets/base",
      "_model_module_version": "1.2.0",
      "_model_name": "LayoutModel",
      "_view_count": null,
      "_view_module": "@jupyter-widgets/base",
      "_view_module_version": "1.2.0",
      "_view_name": "LayoutView",
      "align_content": null,
      "align_items": null,
      "align_self": null,
      "border": null,
      "bottom": null,
      "display": null,
      "flex": null,
      "flex_flow": null,
      "grid_area": null,
      "grid_auto_columns": null,
      "grid_auto_flow": null,
      "grid_auto_rows": null,
      "grid_column": null,
      "grid_gap": null,
      "grid_row": null,
      "grid_template_areas": null,
      "grid_template_columns": null,
      "grid_template_rows": null,
      "height": null,
      "justify_content": null,
      "justify_items": null,
      "left": null,
      "margin": null,
      "max_height": null,
      "max_width": null,
      "min_height": null,
      "min_width": null,
      "object_fit": null,
      "object_position": null,
      "order": null,
      "overflow": null,
      "overflow_x": null,
      "overflow_y": null,
      "padding": null,
      "right": null,
      "top": null,
      "visibility": null,
      "width": null
     }
    },
    "64a8c9e7f1814eda81f430c5956a9528": {
     "model_module": "@jupyter-widgets/base",
     "model_name": "LayoutModel",
     "state": {
      "_model_module": "@jupyter-widgets/base",
      "_model_module_version": "1.2.0",
      "_model_name": "LayoutModel",
      "_view_count": null,
      "_view_module": "@jupyter-widgets/base",
      "_view_module_version": "1.2.0",
      "_view_name": "LayoutView",
      "align_content": null,
      "align_items": null,
      "align_self": null,
      "border": null,
      "bottom": null,
      "display": null,
      "flex": null,
      "flex_flow": null,
      "grid_area": null,
      "grid_auto_columns": null,
      "grid_auto_flow": null,
      "grid_auto_rows": null,
      "grid_column": null,
      "grid_gap": null,
      "grid_row": null,
      "grid_template_areas": null,
      "grid_template_columns": null,
      "grid_template_rows": null,
      "height": null,
      "justify_content": null,
      "justify_items": null,
      "left": null,
      "margin": null,
      "max_height": null,
      "max_width": null,
      "min_height": null,
      "min_width": null,
      "object_fit": null,
      "object_position": null,
      "order": null,
      "overflow": null,
      "overflow_x": null,
      "overflow_y": null,
      "padding": null,
      "right": null,
      "top": null,
      "visibility": null,
      "width": null
     }
    },
    "67595d9e484b4e3e92cf0e442c67a510": {
     "model_module": "@jupyter-widgets/base",
     "model_name": "LayoutModel",
     "state": {
      "_model_module": "@jupyter-widgets/base",
      "_model_module_version": "1.2.0",
      "_model_name": "LayoutModel",
      "_view_count": null,
      "_view_module": "@jupyter-widgets/base",
      "_view_module_version": "1.2.0",
      "_view_name": "LayoutView",
      "align_content": null,
      "align_items": null,
      "align_self": null,
      "border": null,
      "bottom": null,
      "display": null,
      "flex": null,
      "flex_flow": null,
      "grid_area": null,
      "grid_auto_columns": null,
      "grid_auto_flow": null,
      "grid_auto_rows": null,
      "grid_column": null,
      "grid_gap": null,
      "grid_row": null,
      "grid_template_areas": null,
      "grid_template_columns": null,
      "grid_template_rows": null,
      "height": null,
      "justify_content": null,
      "justify_items": null,
      "left": null,
      "margin": null,
      "max_height": null,
      "max_width": null,
      "min_height": null,
      "min_width": null,
      "object_fit": null,
      "object_position": null,
      "order": null,
      "overflow": null,
      "overflow_x": null,
      "overflow_y": null,
      "padding": null,
      "right": null,
      "top": null,
      "visibility": null,
      "width": null
     }
    },
    "6e22dcfc28bd4ee0bedfd7750d1af134": {
     "model_module": "@jupyter-widgets/controls",
     "model_name": "HTMLModel",
     "state": {
      "_dom_classes": [],
      "_model_module": "@jupyter-widgets/controls",
      "_model_module_version": "1.5.0",
      "_model_name": "HTMLModel",
      "_view_count": null,
      "_view_module": "@jupyter-widgets/controls",
      "_view_module_version": "1.5.0",
      "_view_name": "HTMLView",
      "description": "",
      "description_tooltip": null,
      "layout": "IPY_MODEL_f71e81af43fd473593faacfe40815a41",
      "placeholder": "​",
      "style": "IPY_MODEL_c26968bb2ab8478d996b110c00fd841c",
      "value": " 440M/440M [00:38&lt;00:00, 11.3MB/s]"
     }
    },
    "77582b5e60a149d0b828dbc7acb87961": {
     "model_module": "@jupyter-widgets/controls",
     "model_name": "ProgressStyleModel",
     "state": {
      "_model_module": "@jupyter-widgets/controls",
      "_model_module_version": "1.5.0",
      "_model_name": "ProgressStyleModel",
      "_view_count": null,
      "_view_module": "@jupyter-widgets/base",
      "_view_module_version": "1.2.0",
      "_view_name": "StyleView",
      "bar_color": null,
      "description_width": "initial"
     }
    },
    "81efad94be014ed9b2180802510dec0c": {
     "model_module": "@jupyter-widgets/controls",
     "model_name": "DescriptionStyleModel",
     "state": {
      "_model_module": "@jupyter-widgets/controls",
      "_model_module_version": "1.5.0",
      "_model_name": "DescriptionStyleModel",
      "_view_count": null,
      "_view_module": "@jupyter-widgets/base",
      "_view_module_version": "1.2.0",
      "_view_name": "StyleView",
      "description_width": ""
     }
    },
    "82a0f99371da4cbf83531ff60e2058f1": {
     "model_module": "@jupyter-widgets/controls",
     "model_name": "FloatProgressModel",
     "state": {
      "_dom_classes": [],
      "_model_module": "@jupyter-widgets/controls",
      "_model_module_version": "1.5.0",
      "_model_name": "FloatProgressModel",
      "_view_count": null,
      "_view_module": "@jupyter-widgets/controls",
      "_view_module_version": "1.5.0",
      "_view_name": "ProgressView",
      "bar_style": "success",
      "description": "Downloading: 100%",
      "description_tooltip": null,
      "layout": "IPY_MODEL_64a8c9e7f1814eda81f430c5956a9528",
      "max": 440473133,
      "min": 0,
      "orientation": "horizontal",
      "style": "IPY_MODEL_77582b5e60a149d0b828dbc7acb87961",
      "value": 440473133
     }
    },
    "945b362d8861449c8fa00038cc1a1a70": {
     "model_module": "@jupyter-widgets/controls",
     "model_name": "ProgressStyleModel",
     "state": {
      "_model_module": "@jupyter-widgets/controls",
      "_model_module_version": "1.5.0",
      "_model_name": "ProgressStyleModel",
      "_view_count": null,
      "_view_module": "@jupyter-widgets/base",
      "_view_module_version": "1.2.0",
      "_view_name": "StyleView",
      "bar_color": null,
      "description_width": "initial"
     }
    },
    "b70bfbdc0d1d4a2fb44248019a445745": {
     "model_module": "@jupyter-widgets/base",
     "model_name": "LayoutModel",
     "state": {
      "_model_module": "@jupyter-widgets/base",
      "_model_module_version": "1.2.0",
      "_model_name": "LayoutModel",
      "_view_count": null,
      "_view_module": "@jupyter-widgets/base",
      "_view_module_version": "1.2.0",
      "_view_name": "LayoutView",
      "align_content": null,
      "align_items": null,
      "align_self": null,
      "border": null,
      "bottom": null,
      "display": null,
      "flex": null,
      "flex_flow": null,
      "grid_area": null,
      "grid_auto_columns": null,
      "grid_auto_flow": null,
      "grid_auto_rows": null,
      "grid_column": null,
      "grid_gap": null,
      "grid_row": null,
      "grid_template_areas": null,
      "grid_template_columns": null,
      "grid_template_rows": null,
      "height": null,
      "justify_content": null,
      "justify_items": null,
      "left": null,
      "margin": null,
      "max_height": null,
      "max_width": null,
      "min_height": null,
      "min_width": null,
      "object_fit": null,
      "object_position": null,
      "order": null,
      "overflow": null,
      "overflow_x": null,
      "overflow_y": null,
      "padding": null,
      "right": null,
      "top": null,
      "visibility": null,
      "width": null
     }
    },
    "c26968bb2ab8478d996b110c00fd841c": {
     "model_module": "@jupyter-widgets/controls",
     "model_name": "DescriptionStyleModel",
     "state": {
      "_model_module": "@jupyter-widgets/controls",
      "_model_module_version": "1.5.0",
      "_model_name": "DescriptionStyleModel",
      "_view_count": null,
      "_view_module": "@jupyter-widgets/base",
      "_view_module_version": "1.2.0",
      "_view_name": "StyleView",
      "description_width": ""
     }
    },
    "d4c372458961493bb52108a48a00ed79": {
     "model_module": "@jupyter-widgets/controls",
     "model_name": "HBoxModel",
     "state": {
      "_dom_classes": [],
      "_model_module": "@jupyter-widgets/controls",
      "_model_module_version": "1.5.0",
      "_model_name": "HBoxModel",
      "_view_count": null,
      "_view_module": "@jupyter-widgets/controls",
      "_view_module_version": "1.5.0",
      "_view_name": "HBoxView",
      "box_style": "",
      "children": [
       "IPY_MODEL_82a0f99371da4cbf83531ff60e2058f1",
       "IPY_MODEL_6e22dcfc28bd4ee0bedfd7750d1af134"
      ],
      "layout": "IPY_MODEL_5af3a73d64274592ab9f319b39fb40e4"
     }
    },
    "da1e86889672487fb2de7af40d861d61": {
     "model_module": "@jupyter-widgets/base",
     "model_name": "LayoutModel",
     "state": {
      "_model_module": "@jupyter-widgets/base",
      "_model_module_version": "1.2.0",
      "_model_name": "LayoutModel",
      "_view_count": null,
      "_view_module": "@jupyter-widgets/base",
      "_view_module_version": "1.2.0",
      "_view_name": "LayoutView",
      "align_content": null,
      "align_items": null,
      "align_self": null,
      "border": null,
      "bottom": null,
      "display": null,
      "flex": null,
      "flex_flow": null,
      "grid_area": null,
      "grid_auto_columns": null,
      "grid_auto_flow": null,
      "grid_auto_rows": null,
      "grid_column": null,
      "grid_gap": null,
      "grid_row": null,
      "grid_template_areas": null,
      "grid_template_columns": null,
      "grid_template_rows": null,
      "height": null,
      "justify_content": null,
      "justify_items": null,
      "left": null,
      "margin": null,
      "max_height": null,
      "max_width": null,
      "min_height": null,
      "min_width": null,
      "object_fit": null,
      "object_position": null,
      "order": null,
      "overflow": null,
      "overflow_x": null,
      "overflow_y": null,
      "padding": null,
      "right": null,
      "top": null,
      "visibility": null,
      "width": null
     }
    },
    "f44aedb46fe74fdcb9cb33427009c8e5": {
     "model_module": "@jupyter-widgets/controls",
     "model_name": "HBoxModel",
     "state": {
      "_dom_classes": [],
      "_model_module": "@jupyter-widgets/controls",
      "_model_module_version": "1.5.0",
      "_model_name": "HBoxModel",
      "_view_count": null,
      "_view_module": "@jupyter-widgets/controls",
      "_view_module_version": "1.5.0",
      "_view_name": "HBoxView",
      "box_style": "",
      "children": [
       "IPY_MODEL_2e2386fde4064e97b1e2cc2f0218c30a",
       "IPY_MODEL_24343110bc4f428899ba68276f19f2b1"
      ],
      "layout": "IPY_MODEL_da1e86889672487fb2de7af40d861d61"
     }
    },
    "f71e81af43fd473593faacfe40815a41": {
     "model_module": "@jupyter-widgets/base",
     "model_name": "LayoutModel",
     "state": {
      "_model_module": "@jupyter-widgets/base",
      "_model_module_version": "1.2.0",
      "_model_name": "LayoutModel",
      "_view_count": null,
      "_view_module": "@jupyter-widgets/base",
      "_view_module_version": "1.2.0",
      "_view_name": "LayoutView",
      "align_content": null,
      "align_items": null,
      "align_self": null,
      "border": null,
      "bottom": null,
      "display": null,
      "flex": null,
      "flex_flow": null,
      "grid_area": null,
      "grid_auto_columns": null,
      "grid_auto_flow": null,
      "grid_auto_rows": null,
      "grid_column": null,
      "grid_gap": null,
      "grid_row": null,
      "grid_template_areas": null,
      "grid_template_columns": null,
      "grid_template_rows": null,
      "height": null,
      "justify_content": null,
      "justify_items": null,
      "left": null,
      "margin": null,
      "max_height": null,
      "max_width": null,
      "min_height": null,
      "min_width": null,
      "object_fit": null,
      "object_position": null,
      "order": null,
      "overflow": null,
      "overflow_x": null,
      "overflow_y": null,
      "padding": null,
      "right": null,
      "top": null,
      "visibility": null,
      "width": null
     }
    }
   }
  }
 },
 "nbformat": 4,
 "nbformat_minor": 1
}
